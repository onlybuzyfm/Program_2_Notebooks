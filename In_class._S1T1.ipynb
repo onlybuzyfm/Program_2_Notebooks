{
 "cells": [
  {
   "cell_type": "markdown",
   "metadata": {},
   "source": [
    "\"\"\"\n",
    "## Introducción a Clases y Objetos\n",
    "En esta sección aprenderás los conceptos básicos de la Programación Orientada a Objetos (POO) en Python.\n",
    "Vamos a definir una clase, crear objetos a partir de ella, y trabajar con atributos y métodos.\n",
    "\"\"\"\n",
    "\n",
    "\"\"\"\n",
    "### Definiendo la Clase `Persona`\n",
    "Vamos a definir una clase `Persona` que represente a una persona.\n",
    "Esta clase tendrá atributos como `nombre` y `edad`.\n"
   ]
  },
  {
   "cell_type": "code",
   "execution_count": 1,
   "metadata": {},
   "outputs": [],
   "source": [
    "class Persona:\n",
    "    def __init__(self, nombre, edad):\n",
    "        # Atributos de la clase\n",
    "        self.nombre = nombre\n",
    "        self.edad = edad\n",
    "\n",
    "    def saludar(self):\n",
    "        # Método que imprime un saludo usando los atributos de la clase\n",
    "        print(f\"Hola, me llamo {self.nombre} y tengo {self.edad} años.\")"
   ]
  },
  {
   "cell_type": "code",
   "execution_count": 10,
   "metadata": {},
   "outputs": [],
   "source": [
    "class Libro:\n",
    "    def __init__(self,nombre,numpg) -> None:\n",
    "        self.nombre=nombre\n",
    "        self.numpg=numpg\n",
    "        \n",
    "    def infolibro(self):\n",
    "        print(f\"El libro {self.nombre} tiene {self.numpg} paginas.\")\n",
    "        \n",
    "    "
   ]
  },
  {
   "cell_type": "code",
   "execution_count": 13,
   "metadata": {},
   "outputs": [],
   "source": [
    "p1=Persona(\"Jose\",24)\n",
    "l1=Libro(\"Cien Años de Soledad\", 500)\n"
   ]
  },
  {
   "cell_type": "markdown",
   "metadata": {},
   "source": [
    "### Creando Objetos de la Clase `Persona`\n",
    "Vamos a crear una instancia de la clase `Persona`."
   ]
  },
  {
   "cell_type": "code",
   "execution_count": 14,
   "metadata": {},
   "outputs": [
    {
     "name": "stdout",
     "output_type": "stream",
     "text": [
      "Hola, me llamo Juan y tengo 25 años.\n",
      "El libro Cien Años de Soledad tiene  500 paginas.\n"
     ]
    }
   ],
   "source": [
    "# Crear el objeto persona1\n",
    "persona1 = Persona(\"Juan\", 25)\n",
    "\n",
    "# Usar el método `saludar` del objeto persona1\n",
    "persona1.saludar()\n",
    "\n",
    "l1.infolibro()\n"
   ]
  },
  {
   "cell_type": "markdown",
   "metadata": {},
   "source": [
    "Pregunta para los estudiantes:\n",
    "¿Qué pasa si creamos otro objeto de la clase `Persona` con diferentes valores?\n",
    "\n",
    "Pruébalo:\n",
    "   - persona2 = Persona(\"Ana\", 30)\n",
    "   - persona2.saludar()"
   ]
  },
  {
   "cell_type": "code",
   "execution_count": 15,
   "metadata": {},
   "outputs": [
    {
     "name": "stdout",
     "output_type": "stream",
     "text": [
      "Hola, me llamo Ana y tengo 30 años.\n"
     ]
    }
   ],
   "source": [
    "persona2=Persona(\"Ana\", 30)\n",
    "persona2.saludar()"
   ]
  },
  {
   "cell_type": "markdown",
   "metadata": {},
   "source": [
    "### Ejercicio Guiado: Definiendo una Clase `Coche`\n",
    "Ahora, vamos a crear otra clase llamada `Coche`, que tenga los atributos `marca`, `modelo`, y `año`.\n",
    "También agregarás un método `describir` que imprima la descripción del coche."
   ]
  },
  {
   "cell_type": "code",
   "execution_count": 20,
   "metadata": {},
   "outputs": [
    {
     "name": "stdout",
     "output_type": "stream",
     "text": [
      "Coche: Toyota Corolla, Año: 2020\n"
     ]
    }
   ],
   "source": [
    "class Coche:\n",
    "    def __init__(self, marca, modelo, año):\n",
    "        # TODO: Definir los atributos de la clase `Coche`\n",
    "        self.marca = marca\n",
    "        self.modelo = modelo\n",
    "        self.ano = año\n",
    "\n",
    "    def describir(self):\n",
    "        # TODO: Implementar un método para describir el coche\n",
    "        print(f\"Coche: {self.marca} {self.modelo}, Año: {self.ano}\")\n",
    "\n",
    "# TODO: Crear un objeto de la clase `Coche`\n",
    "mi_coche = Coche(\"Toyota\", \"Corolla\", 2020)\n",
    "# TODO: Llamar al método describir para mostrar los detalles del coche\n",
    "mi_coche.describir()"
   ]
  },
  {
   "cell_type": "code",
   "execution_count": 22,
   "metadata": {},
   "outputs": [],
   "source": [
    "cochein=Coche(\"Toyota\",\"Prius\",2017)"
   ]
  },
  {
   "cell_type": "markdown",
   "metadata": {},
   "source": [
    "Pregunta para los estudiantes:\n",
    "¿Puedes agregar otro atributo a la clase `Coche`, por ejemplo, `color`?\n",
    "Después crea un nuevo objeto con este atributo adicional y modifica el método `describir` para incluirlo."
   ]
  },
  {
   "cell_type": "markdown",
   "metadata": {},
   "source": [
    "### Ejercicio: Clase `Libro`\n",
    "- Define una clase `Libro` con los atributos `titulo`, `autor`, y `num_paginas`.\n",
    "- Implementa un método `resumen` que imprima una descripción del libro.\n",
    "\"\"\""
   ]
  },
  {
   "cell_type": "code",
   "execution_count": 30,
   "metadata": {},
   "outputs": [],
   "source": [
    "class Libro:\n",
    "    def __init__(self,titulo,autor,num_paginas) -> None:\n",
    "        self.titulo=titulo\n",
    "        self.autor=autor\n",
    "        self.num_paginas=num_paginas\n",
    "    def resumen(self):\n",
    "        print(f\"El libro {self.titulo} de el autor {self.autor} tiene {self.num_paginas} paginas.\")\n",
    "        \n",
    "    "
   ]
  },
  {
   "cell_type": "code",
   "execution_count": 31,
   "metadata": {},
   "outputs": [
    {
     "name": "stdout",
     "output_type": "stream",
     "text": [
      "El libro Cien Años de Soledad de el autor Gabriel Garcia Marquez tiene 500 paginas.\n"
     ]
    }
   ],
   "source": [
    "Libro1=Libro(\"Cien Años de Soledad\", \"Gabriel Garcia Marquez\", 500)\n",
    "Libro1.resumen()"
   ]
  },
  {
   "cell_type": "markdown",
   "metadata": {},
   "source": [
    "Pregunta para los estudiantes:\n",
    "¿Cómo podrías modificar la clase `Libro` para agregar un nuevo atributo, como el género del libro?\n",
    "Implementa esta mejora y prueba con un nuevo objeto."
   ]
  },
  {
   "cell_type": "code",
   "execution_count": null,
   "metadata": {},
   "outputs": [],
   "source": []
  }
 ],
 "metadata": {
  "kernelspec": {
   "display_name": "program_2",
   "language": "python",
   "name": "python3"
  },
  "language_info": {
   "codemirror_mode": {
    "name": "ipython",
    "version": 3
   },
   "file_extension": ".py",
   "mimetype": "text/x-python",
   "name": "python",
   "nbconvert_exporter": "python",
   "pygments_lexer": "ipython3",
   "version": "3.12.7"
  }
 },
 "nbformat": 4,
 "nbformat_minor": 2
}
