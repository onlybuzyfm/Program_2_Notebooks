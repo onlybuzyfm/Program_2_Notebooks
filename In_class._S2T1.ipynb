{
 "cells": [
  {
   "cell_type": "markdown",
   "metadata": {},
   "source": [
    "# Programación Orientada a Objetos con Python - Semana 2\n",
    "## Encapsulamiento y Abstracción\n",
    "\n",
    "##  Objetivos del laboratorio:\n",
    " - Comprender y aplicar el concepto de encapsulamiento mediante atributos privados.\n",
    " - Implementar y utilizar getters y setters para el acceso controlado a los datos.\n",
    " - Realizar ejercicios prácticos para reforzar los conceptos de encapsulamiento y abstracción.\n",
    "\n"
   ]
  },
  {
   "cell_type": "markdown",
   "metadata": {},
   "source": [
    "# Ejercicio 1: Atributos Privados\n",
    "Vamos a crear una clase `Persona` con atributos privados para comprender el concepto de encapsulamiento.\n",
    "\n",
    "## Instrucciones:\n",
    "1. Define los atributos `__nombre` y `__edad` como atributos privados en la clase `Persona`.\n",
    "2. Crea un método llamado `mostrar_detalles` para imprimir el nombre y la edad de la persona.\n",
    "3. Crea una instancia de `Persona` y prueba el método `mostrar_detalles`."
   ]
  },
  {
   "cell_type": "code",
   "execution_count": 2,
   "metadata": {},
   "outputs": [],
   "source": [
    "class Persona:\n",
    "    def __init__(self, nombre, edad):\n",
    "        # Definimos los atributos privados con dos guiones bajos (__)\n",
    "        # TODO: Asigna los atributos privados correctamente\n",
    "        self.__nombre = nombre  # Completa esta línea\n",
    "        self.__edad = edad      # Completa esta línea\n",
    "\n",
    "    # TODO: Crear un método para mostrar los detalles de la persona\n",
    "    def mostrar_detalles(self):\n",
    "        # Mostrar el nombre y la edad de la persona\n",
    "        print(f\"Nombre: {self.__nombre}, Edad: {self.__edad}\")\n",
    "\n",
    "# TODO: Crear una instancia de la clase Persona y probar el método mostrar_detalles\n",
    "persona1 = Persona(\"Ana\", 30)\n",
    "\n",
    "# Intentar acceder directamente a los atributos privados (esto generará un error)\n",
    "# print(persona1.__nombre)  # Descomenta esta línea para ver el error\n",
    "\n",
    "# Mostrar los detalles de la persona usando el método público\n",
    "persona1.mostrar_detalles()\n"
   ]
  },
  {
   "cell_type": "markdown",
   "metadata": {},
   "source": [
    "# Ejercicio 2: Getters y Setters\n",
    "Implementemos getters y setters para los atributos privados de la clase `Persona`.\n",
    "\n",
    "## Instrucciones:\n",
    "1. Añade un método `get_edad` para devolver la edad de la persona.\n",
    "2. Añade un método `set_edad` para modificar la edad, con validación para asegurarse de que la edad sea positiva.\n",
    "3. Prueba los métodos `get_edad` y `set_edad` con una instancia de la clase `Persona`."
   ]
  },
  {
   "cell_type": "code",
   "execution_count": null,
   "metadata": {},
   "outputs": [],
   "source": [
    "# TODO: Completa la clase Persona añadiendo getters y setters\n",
    "class Persona:\n",
    "    def __init__(self, nombre, edad):\n",
    "        self.__nombre = nombre\n",
    "        self.__edad = edad\n",
    "\n",
    "    # TODO: Implementar el getter para el atributo edad\n",
    "\n",
    "\n",
    "    # TODO: Implementar el setter para el atributo edad\n",
    "\n",
    "\n",
    "    # TODO: Método para mostrar los detalles\n",
    "\n",
    "\n",
    "# TODO: Crear una instancia de la clase Persona y probar los getters y setters\n",
    "persona2 = Persona(\"Luis\", 25)\n",
    "\n",
    "# Utilizar el setter para modificar la edad\n",
    "persona2.set_edad(32)\n",
    "\n",
    "# Utilizar el getter para obtener la edad\n",
    "print(\"Edad de la persona:\", persona2.get_edad())\n",
    "\n",
    "# Mostrar los detalles de la persona\n",
    "persona2.mostrar_detalles()\n"
   ]
  },
  {
   "cell_type": "markdown",
   "metadata": {},
   "source": [
    "# Ejercicio 3: Clase CuentaBancaria\n",
    "Crear una clase `CuentaBancaria` con encapsulamiento y métodos para depositar y retirar dinero.\n",
    "\n",
    "## Instrucciones:\n",
    "1. Define los atributos privados `__titular` y `__saldo`.\n",
    "2. Implementa los métodos `depositar` y `retirar` con validación de entrada.\n",
    "3. Añade un método `get_saldo` para obtener el saldo actual de la cuenta.\n",
    "4. Prueba los métodos creando una instancia de `CuentaBancaria`."
   ]
  },
  {
   "cell_type": "code",
   "execution_count": null,
   "metadata": {},
   "outputs": [],
   "source": []
  }
 ],
 "metadata": {
  "kernelspec": {
   "display_name": "program_2",
   "language": "python",
   "name": "python3"
  },
  "language_info": {
   "codemirror_mode": {
    "name": "ipython",
    "version": 3
   },
   "file_extension": ".py",
   "mimetype": "text/x-python",
   "name": "python",
   "nbconvert_exporter": "python",
   "pygments_lexer": "ipython3",
   "version": "3.12.7"
  }
 },
 "nbformat": 4,
 "nbformat_minor": 2
}
