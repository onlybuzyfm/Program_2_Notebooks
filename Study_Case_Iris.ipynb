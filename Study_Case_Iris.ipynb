{
 "cells": [
  {
   "cell_type": "markdown",
   "metadata": {},
   "source": [
    "## Introducción al Caso de Estudio\n",
    "En este caso de estudio, vamos a aplicar los conceptos básicos de la Programación Orientada a Objetos (POO) para modelar datos del conocido dataset Iris.\n",
    "Este dataset contiene información sobre tres especies de flores del género Iris, incluyendo características como la longitud y el ancho del sépalo y del pétalo.\n",
    "El objetivo es representar cada flor como un objeto usando POO."
   ]
  },
  {
   "cell_type": "markdown",
   "metadata": {},
   "source": [
    "### Paso 1: Definir la Clase `Flor`\n",
    "La clase `Flor` representará cada muestra del dataset Iris.\n",
    "Tendrá los siguientes atributos:\n",
    "- `longitud_sepalo`\n",
    "- `ancho_sepalo`\n",
    "- `longitud_petalo`\n",
    "- `ancho_petalo`\n",
    "- `especie`\n",
    "\n",
    "\n",
    "Vamos a comenzar definiendo la clase con estos atributos y un constructor (`__init__`) que permita inicializarlos.\n",
    "\"\"\""
   ]
  },
  {
   "cell_type": "code",
   "execution_count": 1,
   "metadata": {},
   "outputs": [],
   "source": [
    "# TODO: Definir la clase `Flor`\n",
    "class Flor:\n",
    "    def __init__(self, longitud_sepalo, ancho_sepalo, longitud_petalo, ancho_petalo, especie):\n",
    "        # Atributos de la clase\n",
    "        self.longitud_sepalo = longitud_sepalo\n",
    "        self.ancho_sepalo = ancho_sepalo\n",
    "        self.longitud_petalo = longitud_petalo\n",
    "        self.ancho_petalo = ancho_petalo\n",
    "        self.especie = especie\n",
    "\n",
    "\n"
   ]
  },
  {
   "cell_type": "markdown",
   "metadata": {},
   "source": [
    "### Paso 2: Crear Objetos de la Clase `Flor`\n",
    "A continuación, vamos a crear algunos objetos de la clase `Flor` que representen muestras del dataset Iris."
   ]
  },
  {
   "cell_type": "code",
   "execution_count": 2,
   "metadata": {},
   "outputs": [],
   "source": [
    "flor1 = Flor(5.1, 3.5, 1.4, 0.2, \"Iris-setosa\")\n",
    "flor2 = Flor(6.7, 3.1, 4.7, 1.5, \"Iris-versicolor\")\n",
    "flor3 = Flor(7.2, 3.6, 6.1, 2.5, \"Iris-virginica\")"
   ]
  },
  {
   "cell_type": "markdown",
   "metadata": {},
   "source": [
    "### Paso 3: Definir un Método para Imprimir los Detalles de la Flor\n",
    "Queremos tener una forma conveniente de imprimir los detalles de cada flor.\n",
    "Para ello, vamos a definir un método `__str__` que nos permita representar la flor como una cadena de texto."
   ]
  },
  {
   "cell_type": "code",
   "execution_count": null,
   "metadata": {},
   "outputs": [],
   "source": [
    "# TODO: Añadir el método `__str__` a la clase `Flor`\n",
    "class Flor:\n",
    "    def __init__(self, longitud_sepalo, ancho_sepalo, longitud_petalo, ancho_petalo, especie):\n",
    "        # Atributos de la clase\n",
    "        self.longitud_sepalo = longitud_sepalo\n",
    "        self.ancho_sepalo = ancho_sepalo\n",
    "        self.longitud_petalo = longitud_petalo\n",
    "        self.ancho_petalo = ancho_petalo\n",
    "        self.especie = especie\n",
    "    \n",
    "    def __str__(self):\n",
    "        # Representación en forma de texto de la flor\n",
    "        return f\"{self.especie}: Sépalo[{self.longitud_sepalo}, {self.ancho_sepalo}], Pétalo[{self.longitud_petalo}, {self.ancho_petalo}]\"\n",
    "\n",
    "# Probar la representación en texto de un objeto\n",
    "flor1 = Flor(5.1, 3.5, 1.4, 0.2, \"Iris-setosa\")\n",
    "print(flor1)\n"
   ]
  },
  {
   "cell_type": "markdown",
   "metadata": {},
   "source": [
    "Pregunta para los estudiantes:\n",
    "- ¿Qué otras características podríamos agregar a la clase `Flor`?\n",
    "- ¿Cómo podríamos modificar la clase para incluir un método que calcule alguna estadística (por ejemplo, el área del sépalo)?"
   ]
  },
  {
   "cell_type": "code",
   "execution_count": null,
   "metadata": {},
   "outputs": [],
   "source": []
  },
  {
   "cell_type": "markdown",
   "metadata": {},
   "source": [
    "### Paso 4: Encapsulamiento de Atributos\n",
    "Para proteger los datos de la clase, encapsularemos los atributos para que no se pueda acceder a ellos directamente desde fuera de la clase.\n",
    "Vamos a hacer que todos los atributos sean privados añadiendo un doble guion bajo (`__`) y luego agregaremos **getters** y **setters**."
   ]
  },
  {
   "cell_type": "code",
   "execution_count": 4,
   "metadata": {},
   "outputs": [],
   "source": [
    "# TODO: Encapsular los atributos de la clase `Flor` y añadir getters y setters\n",
    "class Flor:\n",
    "    def __init__(self, longitud_sepalo, ancho_sepalo, longitud_petalo, ancho_petalo, especie):\n",
    "        # Atributos privados de la clase\n",
    "        self.__longitud_sepalo = longitud_sepalo\n",
    "        self.__ancho_sepalo = ancho_sepalo\n",
    "        self.__longitud_petalo = longitud_petalo\n",
    "        self.__ancho_petalo = ancho_petalo\n",
    "        self.__especie = especie\n",
    "    \n",
    "    def get_longitud_sepalo(self):\n",
    "        return self.__longitud_sepalo\n",
    "    \n",
    "    def set_longitud_sepalo(self, longitud_sepalo):\n",
    "        self.__longitud_sepalo = longitud_sepalo\n",
    "\n",
    "    def __str__(self):\n",
    "        return f\"{self.__especie}: Sépalo[{self.__longitud_sepalo}, {self.__ancho_sepalo}], Pétalo[{self.__longitud_petalo}, {self.__ancho_petalo}]\"\n",
    "\n",
    "# TODO:  Probar la encapsulación y el uso de getters y setters\n",
    "\n"
   ]
  },
  {
   "cell_type": "markdown",
   "metadata": {},
   "source": [
    "Pregunta para los estudiantes:\n",
    "- ¿Por qué es importante encapsular los atributos de una clase?\n",
    "- ¿Podríamos agregar un setter para cambiar la especie de la flor? ¿Por qué o por qué no?"
   ]
  },
  {
   "cell_type": "code",
   "execution_count": null,
   "metadata": {},
   "outputs": [],
   "source": []
  },
  {
   "cell_type": "markdown",
   "metadata": {},
   "source": [
    "### Paso 5: Ejercicio Adicional\n",
    "- Añade un método a la clase `Flor` que calcule el área aproximada del sépalo y otro para el pétalo.\n",
    "- Crea más objetos de tipo `Flor` y prueba los métodos creados."
   ]
  },
  {
   "cell_type": "code",
   "execution_count": null,
   "metadata": {},
   "outputs": [],
   "source": []
  },
  {
   "cell_type": "markdown",
   "metadata": {},
   "source": [
    "# Semana 2: Caso de Estudio - Dataset Iris\n",
    "Modificar la clase `Flor` para encapsular los atributos y calcular el área del pétalo.\n",
    "\n",
    "## Instrucciones:\n",
    "1. Define los atributos privados para `longitud_sepalo`, `ancho_sepalo`, `longitud_petalo`, `ancho_petalo` y `especie`.\n",
    "2. Añade un método `get_area_petalo` para calcular el área del pétalo.\n",
    "3. Crea dos instancias de la clase `Flor` y compara el área de sus pétalos."
   ]
  },
  {
   "cell_type": "code",
   "execution_count": null,
   "metadata": {},
   "outputs": [],
   "source": []
  }
 ],
 "metadata": {
  "kernelspec": {
   "display_name": "program_2",
   "language": "python",
   "name": "python3"
  },
  "language_info": {
   "codemirror_mode": {
    "name": "ipython",
    "version": 3
   },
   "file_extension": ".py",
   "mimetype": "text/x-python",
   "name": "python",
   "nbconvert_exporter": "python",
   "pygments_lexer": "ipython3",
   "version": "3.12.7"
  }
 },
 "nbformat": 4,
 "nbformat_minor": 2
}
