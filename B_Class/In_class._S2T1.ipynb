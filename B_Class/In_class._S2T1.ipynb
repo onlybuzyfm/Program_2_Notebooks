{
 "cells": [
  {
   "cell_type": "markdown",
   "metadata": {},
   "source": [
    "# Programación Orientada a Objetos con Python - Semana 2\n",
    "## Encapsulamiento y Abstracción\n",
    "\n",
    "##  Objetivos del laboratorio:\n",
    " - Comprender y aplicar el concepto de encapsulamiento mediante atributos privados.\n",
    " - Implementar y utilizar getters y setters para el acceso controlado a los datos.\n",
    " - Realizar ejercicios prácticos para reforzar los conceptos de encapsulamiento y abstracción.\n",
    "\n"
   ]
  },
  {
   "cell_type": "markdown",
   "metadata": {},
   "source": [
    "# Ejercicio 1: Atributos Privados\n",
    "Vamos a crear una clase `Persona` con atributos privados para comprender el concepto de encapsulamiento.\n",
    "\n",
    "## Instrucciones:\n",
    "1. Define los atributos `__nombre` y `__edad` como atributos privados en la clase `Persona`.\n",
    "2. Crea un método llamado `mostrar_detalles` para imprimir el nombre y la edad de la persona.\n",
    "3. Crea una instancia de `Persona` y prueba el método `mostrar_detalles`."
   ]
  },
  {
   "cell_type": "code",
   "execution_count": 5,
   "metadata": {},
   "outputs": [
    {
     "name": "stdout",
     "output_type": "stream",
     "text": [
      "Nombre: Ana, Edad: 30\n"
     ]
    }
   ],
   "source": [
    "class Persona:\n",
    "    def __init__(self, nombre, edad):\n",
    "        # Definimos los atributos privados con dos guiones bajos (__)\n",
    "        # TODO: Asigna los atributos privados correctamente\n",
    "        self.__nombre = nombre  # Completa esta línea\n",
    "        self.__edad = edad      # Completa esta línea\n",
    "\n",
    "    # TODO: Crear un método para mostrar los detalles de la persona\n",
    "    def mostrar_detalles(self):\n",
    "        # Mostrar el nombre y la edad de la persona\n",
    "        print(f\"Nombre: {self.__nombre}, Edad: {self.__edad}\")\n",
    "\n",
    "# TODO: Crear una instancia de la clase Persona y probar el método mostrar_detalles\n",
    "persona1 = Persona(\"Ana\", 30)\n",
    "\n",
    "# Intentar acceder directamente a los atributos privados (esto generará un error)\n",
    "# print(persona1.__nombre)  # Descomenta esta línea para ver el error\n",
    "\n",
    "# Mostrar los detalles de la persona usando el método público\n",
    "persona1.mostrar_detalles()\n"
   ]
  },
  {
   "cell_type": "markdown",
   "metadata": {},
   "source": [
    "# Ejercicio 2: Getters y Setters\n",
    "Implementemos getters y setters para los atributos privados de la clase `Persona`.\n",
    "\n",
    "## Instrucciones:\n",
    "1. Añade un método `get_edad` para devolver la edad de la persona.\n",
    "2. Añade un método `set_edad` para modificar la edad, con validación para asegurarse de que la edad sea positiva.\n",
    "3. Prueba los métodos `get_edad` y `set_edad` con una instancia de la clase `Persona`."
   ]
  },
  {
   "cell_type": "code",
   "execution_count": 21,
   "metadata": {},
   "outputs": [
    {
     "name": "stdout",
     "output_type": "stream",
     "text": [
      "Edad de la persona: 23\n",
      "Nombre: Luis, Edad: 23\n"
     ]
    }
   ],
   "source": [
    "# TODO: Completa la clase Persona añadiendo getters y setters\n",
    "class Persona:\n",
    "    def __init__(self, nombre, edad):\n",
    "        self.__nombre = nombre\n",
    "        self.__edad = edad\n",
    "\n",
    "    # TODO: Implementar el getter para el atributo edad\n",
    "    def get_edad(self):\n",
    "        return self.__edad\n",
    "    \n",
    "\n",
    "\n",
    "    # TODO: Implementar el setter para el atributo edad\n",
    "    \n",
    "    def set_edad(self,nueva_edad):\n",
    "        if nueva_edad>0:\n",
    "            self.__edad=nueva_edad\n",
    "        else:\n",
    "            print(\"Inserte una edad positiva\")\n",
    "    \n",
    "\n",
    "\n",
    "    # TODO: Método para mostrar los detalles\n",
    "    \n",
    "    def mostrar_detalles(self):\n",
    "        # Mostrar el nombre y la edad de la persona\n",
    "        print(f\"Nombre: {self.__nombre}, Edad: {self.__edad}\")\n",
    "    \n",
    "    \n",
    "\n",
    "\n",
    "\n",
    "# TODO: Crear una instancia de la clase Persona y probar los getters y setters\n",
    "persona1 = Persona(\"Ana\", 30)\n",
    "persona2 = Persona(\"Luis\", 25)\n",
    "\n",
    "\n",
    "\n",
    "# Utilizar el setter para modificar la edad\n",
    "persona2.set_edad(23)\n",
    "# print(persona2.get_edad())\n",
    "\n",
    "# # Utilizar el getter para obtener la edad\n",
    "print(\"Edad de la persona:\", persona2.get_edad())\n",
    "\n",
    "# # Mostrar los detalles de la persona\n",
    "persona2.mostrar_detalles()\n"
   ]
  },
  {
   "cell_type": "markdown",
   "metadata": {},
   "source": [
    "# Ejercicio 3: Clase CuentaBancaria\n",
    "Crear una clase `CuentaBancaria` con encapsulamiento y métodos para depositar y retirar dinero.\n",
    "\n",
    "## Instrucciones:\n",
    "1. Define los atributos privados `__titular` y `__saldo`.\n",
    "2. Implementa los métodos `depositar` y `retirar` con validación de entrada.\n",
    "3. Añade un método `get_saldo` para obtener el saldo actual de la cuenta.\n",
    "4. Prueba los métodos creando una instancia de `CuentaBancaria`."
   ]
  },
  {
   "cell_type": "code",
   "execution_count": 61,
   "metadata": {},
   "outputs": [],
   "source": [
    "class CuentaBancaria:\n",
    "    def __init__(self,titular,saldo,pass_):\n",
    "        self.__titular=titular\n",
    "        self.__saldo=saldo\n",
    "        self.__pass_=pass_\n",
    "    def depositar(self,deposito):\n",
    "        if deposito>0:\n",
    "            self.__saldo+=deposito\n",
    "    def retirar(self,retiro,password):\n",
    "        if password==self.__pass_:\n",
    "            print(\"Acceso Exitoso\")\n",
    "            if retiro<=self.__saldo:\n",
    "                self.__saldo-=retiro\n",
    "                print(f\"Su nuevo saldo es: {self.__saldo}\")\n",
    "            else:\n",
    "                 print(\"Saldo insuficiente\")\n",
    "        else: \n",
    "            print(\"Contraseña incorrecta\")\n",
    "    def get_saldo(self):\n",
    "        print(f\"Su saldo es de {self.__saldo}\")\n",
    "        \n",
    "\n",
    "\n",
    "c1=CuentaBancaria(\"Jose\",20,1234)"
   ]
  },
  {
   "cell_type": "code",
   "execution_count": 62,
   "metadata": {},
   "outputs": [
    {
     "name": "stdout",
     "output_type": "stream",
     "text": [
      "Acceso Exitoso\n",
      "Su nuevo saldo es: 70\n"
     ]
    }
   ],
   "source": [
    "c1.depositar(100)\n",
    "c1.retirar(50,1234)"
   ]
  },
  {
   "cell_type": "code",
   "execution_count": 59,
   "metadata": {},
   "outputs": [
    {
     "name": "stdout",
     "output_type": "stream",
     "text": [
      "Acceso Exitoso\n",
      "Su nuevo saldo es: 70\n"
     ]
    }
   ],
   "source": [
    "c1.retirar(50,1234)"
   ]
  },
  {
   "cell_type": "code",
   "execution_count": 46,
   "metadata": {},
   "outputs": [
    {
     "name": "stdout",
     "output_type": "stream",
     "text": [
      "Acceso Exitoso\n",
      "Saldo insuficiente\n"
     ]
    }
   ],
   "source": [
    "c1.retirar(60,1234)"
   ]
  },
  {
   "cell_type": "code",
   "execution_count": 47,
   "metadata": {},
   "outputs": [
    {
     "name": "stdout",
     "output_type": "stream",
     "text": [
      "Acceso Exitoso\n",
      "Su nuevo saldo es: 10\n"
     ]
    }
   ],
   "source": [
    "c1.retirar(40,1234)"
   ]
  },
  {
   "cell_type": "code",
   "execution_count": 49,
   "metadata": {},
   "outputs": [
    {
     "name": "stdout",
     "output_type": "stream",
     "text": [
      "Acceso Exitoso\n",
      "Saldo insuficiente\n"
     ]
    }
   ],
   "source": [
    "c1.retirar(20,1234)"
   ]
  },
  {
   "cell_type": "code",
   "execution_count": 50,
   "metadata": {},
   "outputs": [
    {
     "name": "stdout",
     "output_type": "stream",
     "text": [
      "Su saldo es de 10\n"
     ]
    }
   ],
   "source": [
    "c1.get_saldo()"
   ]
  },
  {
   "cell_type": "code",
   "execution_count": 52,
   "metadata": {},
   "outputs": [
    {
     "name": "stdout",
     "output_type": "stream",
     "text": [
      "Acceso Exitoso\n",
      "Su nuevo saldo es: 0\n"
     ]
    }
   ],
   "source": [
    "c1.retirar(10,1234)"
   ]
  }
 ],
 "metadata": {
  "kernelspec": {
   "display_name": "program_2",
   "language": "python",
   "name": "python3"
  },
  "language_info": {
   "codemirror_mode": {
    "name": "ipython",
    "version": 3
   },
   "file_extension": ".py",
   "mimetype": "text/x-python",
   "name": "python",
   "nbconvert_exporter": "python",
   "pygments_lexer": "ipython3",
   "version": "3.12.7"
  }
 },
 "nbformat": 4,
 "nbformat_minor": 2
}
